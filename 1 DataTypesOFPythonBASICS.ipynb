{
 "cells": [
  {
   "cell_type": "code",
   "execution_count": 1,
   "metadata": {},
   "outputs": [],
   "source": [
    "a,b,c=3,3.5,\"ML\""
   ]
  },
  {
   "cell_type": "code",
   "execution_count": 8,
   "metadata": {},
   "outputs": [
    {
     "name": "stdout",
     "output_type": "stream",
     "text": [
      "value of a =  3\n",
      "Address of a =  94729085453248\n",
      "Type of a =  <class 'int'>\n"
     ]
    }
   ],
   "source": [
    "print(\"value of a = \",a)\n",
    "print(\"Address of a = \",id(a))\n",
    "print(\"Type of a = \",type(a))"
   ]
  },
  {
   "cell_type": "code",
   "execution_count": 5,
   "metadata": {},
   "outputs": [
    {
     "name": "stdout",
     "output_type": "stream",
     "text": [
      "False\n"
     ]
    }
   ],
   "source": [
    "print(id(a)==id(b))"
   ]
  },
  {
   "cell_type": "code",
   "execution_count": 19,
   "metadata": {},
   "outputs": [
    {
     "name": "stdout",
     "output_type": "stream",
     "text": [
      "139750860501936\n",
      "<class 'complex'>\n",
      "True\n"
     ]
    }
   ],
   "source": [
    "m=1+2j\n",
    "print(id(m))\n",
    "print(type(m))\n",
    "print(isinstance(m,complex))"
   ]
  },
  {
   "cell_type": "code",
   "execution_count": 18,
   "metadata": {},
   "outputs": [
    {
     "name": "stdout",
     "output_type": "stream",
     "text": [
      "This is Machine learning\n",
      "<class 'str'>\n",
      "139750859588192\n",
      "True\n"
     ]
    }
   ],
   "source": [
    "a=\"This is Machine learning\"\n",
    "print(a)\n",
    "print(type(a))\n",
    "print(id(a))\n",
    "print(isinstance(a,str))"
   ]
  },
  {
   "cell_type": "code",
   "execution_count": 21,
   "metadata": {},
   "outputs": [
    {
     "name": "stdout",
     "output_type": "stream",
     "text": [
      "Hello world!\n",
      "This is Parth Dodiya :)\n",
      "<class 'str'> 139750911766088 True\n"
     ]
    }
   ],
   "source": [
    "b=\"\"\"Hello world!\n",
    "This is Parth Dodiya :)\"\"\"\n",
    "print(b)\n",
    "print(type(b),id(b),isinstance(b,str))"
   ]
  },
  {
   "cell_type": "code",
   "execution_count": 50,
   "metadata": {},
   "outputs": [
    {
     "name": "stdout",
     "output_type": "stream",
     "text": [
      "i\n",
      "g n\n",
      "24\n",
      "g g\n"
     ]
    }
   ],
   "source": [
    "a=\"This is Machine learning\"\n",
    "print(a[2])\n",
    "print(a[-1],a[-2])\n",
    "print(len(a))\n",
    "print(a[len(a)-1],a[-1])"
   ]
  },
  {
   "cell_type": "code",
   "execution_count": 51,
   "metadata": {},
   "outputs": [
    {
     "name": "stdout",
     "output_type": "stream",
     "text": [
      "is is Machine learning\n",
      "Th\n",
      "<class 'str'>\n"
     ]
    }
   ],
   "source": [
    "print(a[2:])\n",
    "print(a[:2])\n",
    "print(type(a))"
   ]
  },
  {
   "cell_type": "code",
   "execution_count": 52,
   "metadata": {},
   "outputs": [
    {
     "name": "stdout",
     "output_type": "stream",
     "text": [
      "[2, 3.5, 'ML']\n",
      "[2, 5.55, 'ML'] <class 'list'>\n"
     ]
    }
   ],
   "source": [
    "#LIST\n",
    "a=[2,3.5,\"ML\"]\n",
    "print(a)\n",
    "a[1]=5.55\n",
    "print(a,type(a))"
   ]
  },
  {
   "cell_type": "code",
   "execution_count": 53,
   "metadata": {},
   "outputs": [
    {
     "name": "stdout",
     "output_type": "stream",
     "text": [
      "(2, 3.4, 'ML')\n",
      "<class 'tuple'>\n"
     ]
    }
   ],
   "source": [
    "#TUPLE\n",
    "b=(2,3.4,\"ML\")\n",
    "print(b)\n",
    "print(type(b))\n"
   ]
  },
  {
   "cell_type": "code",
   "execution_count": 54,
   "metadata": {},
   "outputs": [
    {
     "name": "stdout",
     "output_type": "stream",
     "text": [
      "{'ML', 2, 5, 6} <class 'set'>\n"
     ]
    }
   ],
   "source": [
    "#SET\n",
    "s={2,5,6,\"ML\",5,5,5,5,5}\n",
    "print(s,type(s))"
   ]
  },
  {
   "cell_type": "code",
   "execution_count": 56,
   "metadata": {},
   "outputs": [
    {
     "name": "stdout",
     "output_type": "stream",
     "text": [
      "{'a': 'LOL', 5: 'Tara rara'}\n",
      "<class 'dict'> 139750860143712 True\n",
      "Tara rara\n"
     ]
    }
   ],
   "source": [
    "#DICTIONARY\n",
    "d={'a':\"LOL\",5:\"Tara rara\"}\n",
    "print(d)\n",
    "print(type(d),id(d),isinstance(d,dict))\n",
    "print(d[5])"
   ]
  },
  {
   "cell_type": "code",
   "execution_count": 57,
   "metadata": {},
   "outputs": [
    {
     "name": "stdout",
     "output_type": "stream",
     "text": [
      "[1, 2, 2, 3, 3, 3, 4, 4, 4, 4, 5, 5, 5, 5, 5] <class 'list'> 139750859642504\n",
      "{1, 2, 3, 4, 5} <class 'set'> 139750860454824\n"
     ]
    }
   ],
   "source": [
    "# List to set\n",
    "a=[1,2,2,3,3,3,4,4,4,4,5,5,5,5,5]\n",
    "print(a,type(a),id(a))\n",
    "s=set(a)\n",
    "print(s,type(s),id(s))\n"
   ]
  },
  {
   "cell_type": "code",
   "execution_count": 60,
   "metadata": {},
   "outputs": [
    {
     "data": {
      "text/plain": [
       "['H', 'e', 'l', 'l', 'o']"
      ]
     },
     "execution_count": 60,
     "metadata": {},
     "output_type": "execute_result"
    }
   ],
   "source": [
    "# str to List\n",
    "list(\"Hello\")"
   ]
  }
 ],
 "metadata": {
  "kernelspec": {
   "display_name": "Python 3",
   "language": "python",
   "name": "python3"
  },
  "language_info": {
   "codemirror_mode": {
    "name": "ipython",
    "version": 3
   },
   "file_extension": ".py",
   "mimetype": "text/x-python",
   "name": "python",
   "nbconvert_exporter": "python",
   "pygments_lexer": "ipython3",
   "version": "3.7.1"
  }
 },
 "nbformat": 4,
 "nbformat_minor": 2
}
