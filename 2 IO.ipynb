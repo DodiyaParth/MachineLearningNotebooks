{
 "cells": [
  {
   "cell_type": "code",
   "execution_count": 1,
   "metadata": {},
   "outputs": [
    {
     "name": "stdout",
     "output_type": "stream",
     "text": [
      "LOL 5\n",
      "LOL5\n"
     ]
    }
   ],
   "source": [
    "a=5\n",
    "print(\"LOL\",a)\n",
    "print(\"LOL\"+str(a))"
   ]
  },
  {
   "cell_type": "code",
   "execution_count": 2,
   "metadata": {},
   "outputs": [
    {
     "name": "stdout",
     "output_type": "stream",
     "text": [
      "LOL a=10 and b=20\n"
     ]
    }
   ],
   "source": [
    "a=10 ; b=20\n",
    "s=\"LOL a={} and b={}\".format(a,b)\n",
    "print(s)"
   ]
  },
  {
   "cell_type": "code",
   "execution_count": 4,
   "metadata": {},
   "outputs": [
    {
     "name": "stdout",
     "output_type": "stream",
     "text": [
      "This is new format where b=20 and a=10\n"
     ]
    }
   ],
   "source": [
    "t=\"This is new format where b={1} and a={0}\".format(a,b)\n",
    "print(t)"
   ]
  },
  {
   "cell_type": "code",
   "execution_count": 6,
   "metadata": {},
   "outputs": [
    {
     "name": "stdout",
     "output_type": "stream",
     "text": [
      "Hello Parth! Good morning!\n"
     ]
    }
   ],
   "source": [
    "print(\"Hello {name}! {greeting}\".format(name=\"Parth\",greeting=\"Good morning!\"))"
   ]
  },
  {
   "cell_type": "code",
   "execution_count": 7,
   "metadata": {},
   "outputs": [
    {
     "name": "stdout",
     "output_type": "stream",
     "text": [
      "The story of Bill Manfred and george\n"
     ]
    }
   ],
   "source": [
    "print('The story of {0} {1} and {other}'.format('Bill','Manfred',other='george'))"
   ]
  },
  {
   "cell_type": "code",
   "execution_count": 9,
   "metadata": {},
   "outputs": [
    {
     "name": "stdout",
     "output_type": "stream",
     "text": [
      "Enter a number5\n",
      "5 <class 'str'>\n"
     ]
    }
   ],
   "source": [
    "# I N P U T\n",
    "num=input(\"Enter a number\")\n",
    "print(num,type(num))"
   ]
  },
  {
   "cell_type": "code",
   "execution_count": 10,
   "metadata": {},
   "outputs": [
    {
     "name": "stdout",
     "output_type": "stream",
     "text": [
      "3.3333333333333335 3 36\n"
     ]
    }
   ],
   "source": [
    "# O P E R A T O R\n",
    "a=20\n",
    "b=6\n",
    "print(a/b,a//b,b**2)"
   ]
  },
  {
   "cell_type": "code",
   "execution_count": 15,
   "metadata": {},
   "outputs": [
    {
     "name": "stdout",
     "output_type": "stream",
     "text": [
      "False True True\n"
     ]
    }
   ],
   "source": [
    "a,b,c=True,False,True\n",
    "print(a and b,b or c, not b)\n"
   ]
  },
  {
   "cell_type": "code",
   "execution_count": 3,
   "metadata": {},
   "outputs": [
    {
     "name": "stdout",
     "output_type": "stream",
     "text": [
      "0\n"
     ]
    },
    {
     "data": {
      "text/plain": [
       "'0b1010'"
      ]
     },
     "execution_count": 3,
     "metadata": {},
     "output_type": "execute_result"
    }
   ],
   "source": [
    "#bitwise\n",
    "a=10\n",
    "print(a^a)\n",
    "bin(a)"
   ]
  },
  {
   "cell_type": "code",
   "execution_count": 28,
   "metadata": {},
   "outputs": [
    {
     "name": "stdout",
     "output_type": "stream",
     "text": [
      "True\n",
      "False\n"
     ]
    }
   ],
   "source": [
    "# Special Operator\n",
    "a=\"ML\"\n",
    "b=\"ML\"\n",
    "print(a is b)   # compares memory location\n",
    "print(a is not b)"
   ]
  },
  {
   "cell_type": "code",
   "execution_count": 32,
   "metadata": {},
   "outputs": [
    {
     "name": "stdout",
     "output_type": "stream",
     "text": [
      "True\n",
      "True\n"
     ]
    }
   ],
   "source": [
    "#membership operator\n",
    "lst=[1,2,3,4,5]\n",
    "print(1 in lst)\n",
    "d={'l':1,'e':3}\n",
    "print('l' in d)"
   ]
  },
  {
   "cell_type": "code",
   "execution_count": null,
   "metadata": {},
   "outputs": [],
   "source": []
  }
 ],
 "metadata": {
  "kernelspec": {
   "display_name": "Python 3",
   "language": "python",
   "name": "python3"
  },
  "language_info": {
   "codemirror_mode": {
    "name": "ipython",
    "version": 3
   },
   "file_extension": ".py",
   "mimetype": "text/x-python",
   "name": "python",
   "nbconvert_exporter": "python",
   "pygments_lexer": "ipython3",
   "version": "3.7.1"
  }
 },
 "nbformat": 4,
 "nbformat_minor": 2
}
