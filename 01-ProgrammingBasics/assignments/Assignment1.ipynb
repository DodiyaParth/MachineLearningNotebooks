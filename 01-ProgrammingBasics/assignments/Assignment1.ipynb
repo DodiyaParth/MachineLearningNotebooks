{
 "cells": [
  {
   "cell_type": "code",
   "execution_count": 2,
   "metadata": {},
   "outputs": [
    {
     "name": "stdout",
     "output_type": "stream",
     "text": [
      "18 * 1 = 18\n",
      "18 * 2 = 36\n",
      "18 * 3 = 54\n",
      "18 * 4 = 72\n",
      "18 * 5 = 90\n",
      "18 * 6 = 108\n",
      "18 * 7 = 126\n",
      "18 * 8 = 144\n",
      "18 * 9 = 162\n",
      "18 * 10 = 180\n"
     ]
    }
   ],
   "source": [
    "def mul_table(a):\n",
    "    \"\"\"\n",
    "    this function inputs a number and prints it's multiplication table.\n",
    "    \"\"\"\n",
    "    for i in range(1,11):\n",
    "        print(a,\"*\",i,\"=\",a*i)\n",
    "mul_table(18)"
   ]
  },
  {
   "cell_type": "code",
   "execution_count": 6,
   "metadata": {},
   "outputs": [
    {
     "name": "stdout",
     "output_type": "stream",
     "text": [
      "3 and 5\n",
      "5 and 7\n",
      "11 and 13\n",
      "17 and 19\n",
      "29 and 31\n",
      "41 and 43\n",
      "59 and 61\n",
      "71 and 73\n",
      "101 and 103\n",
      "107 and 109\n",
      "137 and 139\n",
      "149 and 151\n",
      "179 and 181\n",
      "191 and 193\n",
      "197 and 199\n",
      "227 and 229\n",
      "239 and 241\n",
      "269 and 271\n",
      "281 and 283\n",
      "311 and 313\n",
      "347 and 349\n",
      "419 and 421\n",
      "431 and 433\n",
      "461 and 463\n",
      "521 and 523\n",
      "569 and 571\n",
      "599 and 601\n",
      "617 and 619\n",
      "641 and 643\n",
      "659 and 661\n",
      "809 and 811\n",
      "821 and 823\n",
      "827 and 829\n",
      "857 and 859\n",
      "881 and 883\n"
     ]
    }
   ],
   "source": [
    "import math\n",
    "def isprime(a):\n",
    "    \"\"\"\n",
    "    return True if a is prime otherwise False.\n",
    "    \"\"\"\n",
    "    for i in range(2,int(math.sqrt(a))+1):\n",
    "        if a%i==0:\n",
    "            return False\n",
    "    return True\n",
    "\n",
    "def twin_prime(a):\n",
    "    \"\"\"\n",
    "    prints twin primes less than a\n",
    "    \"\"\"\n",
    "    for i in range(5,a,2):\n",
    "        if(isprime(i) and isprime(i-2)):\n",
    "            print(i-2,\"and\",i)\n",
    "\n",
    "twin_prime(1000)"
   ]
  },
  {
   "cell_type": "code",
   "execution_count": 16,
   "metadata": {},
   "outputs": [
    {
     "name": "stdout",
     "output_type": "stream",
     "text": [
      "prime factors of 56 are 2, 2, 2, 7, "
     ]
    }
   ],
   "source": [
    "def next_prime(a=0):\n",
    "    \"\"\"\n",
    "    returns smallest prime number grater than a.\n",
    "    \"\"\"\n",
    "    a+=1\n",
    "    while not isprime(a):\n",
    "        a+=1\n",
    "    return a\n",
    "\n",
    "def prime_factors(a):\n",
    "    \"\"\"\n",
    "    prints prime factors of a.\n",
    "    \"\"\"\n",
    "    p=2\n",
    "    print(\"prime factors of {} are \".format(a),end=\"\")\n",
    "    while a!=1:\n",
    "        if a%p==0:\n",
    "            print(p,\", \",sep=\"\",end=\"\")\n",
    "            a//=p\n",
    "        else:\n",
    "            p=next_prime(p)\n",
    "\n",
    "prime_factors(56)"
   ]
  },
  {
   "cell_type": "code",
   "execution_count": 25,
   "metadata": {},
   "outputs": [
    {
     "data": {
      "text/plain": [
       "20"
      ]
     },
     "execution_count": 25,
     "metadata": {},
     "output_type": "execute_result"
    }
   ],
   "source": [
    "def permutation(n,r):\n",
    "    \"\"\"\n",
    "    returns n permutation r that is nPr.\n",
    "    \"\"\"\n",
    "    p=1\n",
    "    for i in range(r):\n",
    "       p*=(n-i)\n",
    "    #print(n,\"P\",r,\"=\",p)\n",
    "    return p\n",
    "\n",
    "permutation(5,2)"
   ]
  },
  {
   "cell_type": "code",
   "execution_count": 30,
   "metadata": {},
   "outputs": [
    {
     "data": {
      "text/plain": [
       "10"
      ]
     },
     "execution_count": 30,
     "metadata": {},
     "output_type": "execute_result"
    }
   ],
   "source": [
    "def combination(n,r):\n",
    "    \"\"\"\n",
    "    returns n combination r that is nCr.\n",
    "    \"\"\"\n",
    "    p=1\n",
    "    for i in range(1,r+1):\n",
    "        p=p*i\n",
    "    return permutation(n,r)//p\n",
    "\n",
    "combination(5,3)"
   ]
  },
  {
   "cell_type": "code",
   "execution_count": 34,
   "metadata": {},
   "outputs": [
    {
     "name": "stdout",
     "output_type": "stream",
     "text": [
      "101010\n"
     ]
    }
   ],
   "source": [
    "def decimalToBinary(n):\n",
    "    print(str(bin(n))[2:])\n",
    "\n",
    "decimalToBinary(42)"
   ]
  },
  {
   "cell_type": "code",
   "execution_count": 36,
   "metadata": {},
   "outputs": [
    {
     "name": "stdout",
     "output_type": "stream",
     "text": [
      "[1, 2, 3, 4, 5, 6, 7, 8, 9, 10, 11, 12, 13, 14, 15, 16, 17, 18, 19, 20, 21, 22, 23, 24, 25, 26, 27, 28, 29, 30, 31, 32, 33, 34, 35, 36, 37, 38, 39, 40, 41, 42, 43, 44, 45, 46, 47, 48, 49, 50]\n",
      "[2, 4, 6, 8, 10, 12, 14, 16, 18, 20, 22, 24, 26, 28, 30, 32, 34, 36, 38, 40, 42, 44, 46, 48, 50]\n",
      "[8, 64, 216, 512, 1000, 1728, 2744, 4096, 5832, 8000, 10648, 13824, 17576, 21952, 27000, 32768, 39304, 46656, 54872, 64000, 74088, 85184, 97336, 110592, 125000]\n"
     ]
    }
   ],
   "source": [
    "lst=[i for i in range(1,51)]\n",
    "print(lst)\n",
    "lst=list(filter(lambda x:(x%2==0),lst))\n",
    "print(lst)\n",
    "lst=list(map(lambda x: x**3,lst))\n",
    "print(lst)"
   ]
  },
  {
   "cell_type": "code",
   "execution_count": null,
   "metadata": {},
   "outputs": [],
   "source": []
  }
 ],
 "metadata": {
  "kernelspec": {
   "display_name": "Python 3",
   "language": "python",
   "name": "python3"
  },
  "language_info": {
   "codemirror_mode": {
    "name": "ipython",
    "version": 3
   },
   "file_extension": ".py",
   "mimetype": "text/x-python",
   "name": "python",
   "nbconvert_exporter": "python",
   "pygments_lexer": "ipython3",
   "version": "3.7.1"
  }
 },
 "nbformat": 4,
 "nbformat_minor": 2
}
