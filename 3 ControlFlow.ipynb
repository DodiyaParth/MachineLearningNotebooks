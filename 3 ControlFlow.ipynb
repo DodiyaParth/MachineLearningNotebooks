{
 "cells": [
  {
   "cell_type": "code",
   "execution_count": 2,
   "metadata": {},
   "outputs": [
    {
     "name": "stdout",
     "output_type": "stream",
     "text": [
      "Yeh to hona hi chahiye\n"
     ]
    }
   ],
   "source": [
    "a=10\n",
    "if False or None or 0:\n",
    "    print(\"Ye kabhi nahi hona chahiye!\")\n",
    "if True and 1 and -20 and \"ML\":\n",
    "    print(\"Yeh to hona hi chahiye\")\n",
    "else: \n",
    "    print(\"YBNHC!\")"
   ]
  },
  {
   "cell_type": "code",
   "execution_count": 7,
   "metadata": {},
   "outputs": [
    {
     "name": "stdout",
     "output_type": "stream",
     "text": [
      "Zero\n"
     ]
    }
   ],
   "source": [
    "num=0\n",
    "if num<0:\n",
    "    print(\"Negative\")\n",
    "elif num is 0:\n",
    "    print(\"Zero\")\n",
    "else:\n",
    "    print(\"Positive\")"
   ]
  },
  {
   "cell_type": "code",
   "execution_count": 11,
   "metadata": {},
   "outputs": [
    {
     "name": "stdout",
     "output_type": "stream",
     "text": [
      "The End\n",
      "set  {1, 2, 3, 4} \n",
      "Product 24\n"
     ]
    }
   ],
   "source": [
    "l=[1,2,2,3,3,3,4,4,4,4]\n",
    "s=set(l)\n",
    "p=1\n",
    "for k in s:\n",
    "   p=p*k;\n",
    "else:\n",
    "    print(\"The End\")\n",
    "print(\"set \",s,\"\\nProduct\",p)"
   ]
  },
  {
   "cell_type": "code",
   "execution_count": 12,
   "metadata": {},
   "outputs": [],
   "source": [
    "#  while <condition> :\n",
    "#  for <element> in <sequence>:\n"
   ]
  },
  {
   "cell_type": "code",
   "execution_count": 14,
   "metadata": {},
   "outputs": [
    {
     "name": "stdout",
     "output_type": "stream",
     "text": [
      "0 1 2 3 4 5 6 7 8 9 "
     ]
    }
   ],
   "source": [
    "# R A N G E\n",
    "for i in range(10):\n",
    "    print(i,end=\" \")"
   ]
  },
  {
   "cell_type": "code",
   "execution_count": 20,
   "metadata": {},
   "outputs": [
    {
     "name": "stdout",
     "output_type": "stream",
     "text": [
      "0 2 4 6 8 10 12 14 16 18 "
     ]
    }
   ],
   "source": [
    "# 1 to 20 with step 2\n",
    "\n",
    "#for( i=a ; i<b : i+=c )\n",
    "#for i in range(a,b,c):\n",
    "\n",
    "for i in range(0,20,2):\n",
    "    print(i,end=\" \")"
   ]
  },
  {
   "cell_type": "code",
   "execution_count": 22,
   "metadata": {},
   "outputs": [
    {
     "name": "stdout",
     "output_type": "stream",
     "text": [
      "Parth Ashish Nand Deep Mahir \n",
      "\n",
      "Parth Ashish Nand Deep Mahir "
     ]
    }
   ],
   "source": [
    "lst=['Parth','Ashish','Nand','Deep','Mahir']\n",
    "for i in lst:\n",
    "    print(i,end=\" \")\n",
    "else:\n",
    "    print(\"\\n\")\n",
    "\n",
    "for i in range(len(lst)):\n",
    "    print(lst[i],end=\" \")"
   ]
  },
  {
   "cell_type": "code",
   "execution_count": null,
   "metadata": {},
   "outputs": [],
   "source": []
  }
 ],
 "metadata": {
  "kernelspec": {
   "display_name": "Python 3",
   "language": "python",
   "name": "python3"
  },
  "language_info": {
   "codemirror_mode": {
    "name": "ipython",
    "version": 3
   },
   "file_extension": ".py",
   "mimetype": "text/x-python",
   "name": "python",
   "nbconvert_exporter": "python",
   "pygments_lexer": "ipython3",
   "version": "3.7.1"
  }
 },
 "nbformat": 4,
 "nbformat_minor": 2
}
